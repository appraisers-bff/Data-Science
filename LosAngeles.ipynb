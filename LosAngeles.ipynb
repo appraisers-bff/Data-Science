{
 "cells": [
  {
   "cell_type": "code",
   "execution_count": 116,
   "metadata": {},
   "outputs": [
    {
     "name": "stderr",
     "output_type": "stream",
     "text": [
      "/home/ec2-user/anaconda3/envs/python3/lib/python3.6/site-packages/IPython/core/interactiveshell.py:2785: DtypeWarning: Columns (37) have mixed types. Specify dtype option on import or set low_memory=False.\n",
      "  interactivity=interactivity, compiler=compiler, result=result)\n"
     ]
    }
   ],
   "source": [
    "import pandas as pd\n",
    "\n",
    "data = pd.read_csv('Assessor_Parcels_Data_-_2016.csv')\n",
    "\n",
    "data_chunk = data.head(1000)\n"
   ]
  },
  {
   "cell_type": "code",
   "execution_count": 117,
   "metadata": {},
   "outputs": [
    {
     "ename": "SyntaxError",
     "evalue": "invalid character in identifier (<ipython-input-117-a859aa85f15c>, line 1)",
     "output_type": "error",
     "traceback": [
      "\u001b[0;36m  File \u001b[0;32m\"<ipython-input-117-a859aa85f15c>\"\u001b[0;36m, line \u001b[0;32m1\u001b[0m\n\u001b[0;31m    data_chunk.to_csv(“losangelesdata.csv”)\u001b[0m\n\u001b[0m                                    ^\u001b[0m\n\u001b[0;31mSyntaxError\u001b[0m\u001b[0;31m:\u001b[0m invalid character in identifier\n"
     ]
    }
   ],
   "source": [
    "data_chunk.to_csv(“losangelesdata.csv”)"
   ]
  },
  {
   "cell_type": "code",
   "execution_count": 106,
   "metadata": {},
   "outputs": [],
   "source": [
    "data_first = data[['netTaxableValue', 'Bathrooms', 'Bedrooms', 'SQFTmain', 'YearBuilt', 'ZIPcode', 'GeneralUseType']]\n"
   ]
  },
  {
   "cell_type": "code",
   "execution_count": 19,
   "metadata": {},
   "outputs": [
    {
     "data": {
      "text/plain": [
       "array(['91505-3254', '91505-3252', '91505-3661', ..., '91335-1550',\n",
       "       '91335-1413', '91335-1424'], dtype=object)"
      ]
     },
     "execution_count": 19,
     "metadata": {},
     "output_type": "execute_result"
    }
   ],
   "source": [
    "data_first.ZIPcode.unique()"
   ]
  },
  {
   "cell_type": "code",
   "execution_count": 107,
   "metadata": {},
   "outputs": [],
   "source": [
    "data_first = data_first[data_first.GeneralUseType == 'Residential']"
   ]
  },
  {
   "cell_type": "code",
   "execution_count": 108,
   "metadata": {},
   "outputs": [],
   "source": [
    "data_first = data_first[data_first['Bathrooms'] >= 1]\n",
    "data_first = data_first[data_first['netTaxableValue'] >= 25000]"
   ]
  },
  {
   "cell_type": "code",
   "execution_count": 88,
   "metadata": {},
   "outputs": [
    {
     "data": {
      "text/html": [
       "<div>\n",
       "<style scoped>\n",
       "    .dataframe tbody tr th:only-of-type {\n",
       "        vertical-align: middle;\n",
       "    }\n",
       "\n",
       "    .dataframe tbody tr th {\n",
       "        vertical-align: top;\n",
       "    }\n",
       "\n",
       "    .dataframe thead th {\n",
       "        text-align: right;\n",
       "    }\n",
       "</style>\n",
       "<table border=\"1\" class=\"dataframe\">\n",
       "  <thead>\n",
       "    <tr style=\"text-align: right;\">\n",
       "      <th></th>\n",
       "      <th>0</th>\n",
       "      <th>1</th>\n",
       "      <th>2</th>\n",
       "      <th>3</th>\n",
       "      <th>4</th>\n",
       "    </tr>\n",
       "  </thead>\n",
       "  <tbody>\n",
       "    <tr>\n",
       "      <th>netTaxableValue</th>\n",
       "      <td>387</td>\n",
       "      <td>304575</td>\n",
       "      <td>54029</td>\n",
       "      <td>108498</td>\n",
       "      <td>108498</td>\n",
       "    </tr>\n",
       "    <tr>\n",
       "      <th>Bathrooms</th>\n",
       "      <td>0</td>\n",
       "      <td>0</td>\n",
       "      <td>0</td>\n",
       "      <td>0</td>\n",
       "      <td>0</td>\n",
       "    </tr>\n",
       "    <tr>\n",
       "      <th>Bedrooms</th>\n",
       "      <td>0</td>\n",
       "      <td>0</td>\n",
       "      <td>0</td>\n",
       "      <td>0</td>\n",
       "      <td>0</td>\n",
       "    </tr>\n",
       "    <tr>\n",
       "      <th>SQFTmain</th>\n",
       "      <td>0</td>\n",
       "      <td>0</td>\n",
       "      <td>0</td>\n",
       "      <td>0</td>\n",
       "      <td>0</td>\n",
       "    </tr>\n",
       "    <tr>\n",
       "      <th>YearBuilt</th>\n",
       "      <td>0</td>\n",
       "      <td>0</td>\n",
       "      <td>0</td>\n",
       "      <td>0</td>\n",
       "      <td>0</td>\n",
       "    </tr>\n",
       "    <tr>\n",
       "      <th>ZIPcode</th>\n",
       "      <td></td>\n",
       "      <td></td>\n",
       "      <td></td>\n",
       "      <td></td>\n",
       "      <td></td>\n",
       "    </tr>\n",
       "    <tr>\n",
       "      <th>GeneralUseType</th>\n",
       "      <td>Residential</td>\n",
       "      <td>Residential</td>\n",
       "      <td>Commercial</td>\n",
       "      <td>Commercial</td>\n",
       "      <td>Commercial</td>\n",
       "    </tr>\n",
       "  </tbody>\n",
       "</table>\n",
       "</div>"
      ],
      "text/plain": [
       "                           0            1           2           3           4\n",
       "netTaxableValue          387       304575       54029      108498      108498\n",
       "Bathrooms                  0            0           0           0           0\n",
       "Bedrooms                   0            0           0           0           0\n",
       "SQFTmain                   0            0           0           0           0\n",
       "YearBuilt                  0            0           0           0           0\n",
       "ZIPcode                                                                      \n",
       "GeneralUseType   Residential  Residential  Commercial  Commercial  Commercial"
      ]
     },
     "execution_count": 88,
     "metadata": {},
     "output_type": "execute_result"
    }
   ],
   "source": [
    "data_first.head().T"
   ]
  },
  {
   "cell_type": "code",
   "execution_count": 109,
   "metadata": {},
   "outputs": [],
   "source": [
    "data_first[\"ZIPcode\"] = data_first[\"ZIPcode\"].str.replace(\"-\", \"\")\n",
    "data_first[\"ZIPcode\"] = data_first[\"ZIPcode\"].astype(str).str[:5]\n",
    "\n",
    "data_first = data_first.dropna()"
   ]
  },
  {
   "cell_type": "code",
   "execution_count": 79,
   "metadata": {},
   "outputs": [
    {
     "data": {
      "text/plain": [
       "93    91505\n",
       "94    91505\n",
       "95    91505\n",
       "96    91505\n",
       "97    91505\n",
       "Name: ZIPcode, dtype: object"
      ]
     },
     "execution_count": 79,
     "metadata": {},
     "output_type": "execute_result"
    }
   ],
   "source": [
    "data_first['ZIPcode'].head()"
   ]
  },
  {
   "cell_type": "code",
   "execution_count": 110,
   "metadata": {},
   "outputs": [],
   "source": [
    "data_first['ZIPcode'] = pd.to_numeric(data_first['ZIPcode'], errors='coerce')\n",
    "\n",
    "\n",
    "data_first = data_first.dropna()\n"
   ]
  },
  {
   "cell_type": "code",
   "execution_count": 111,
   "metadata": {},
   "outputs": [
    {
     "name": "stdout",
     "output_type": "stream",
     "text": [
      "Requirement already satisfied: pyzillow in /home/ec2-user/anaconda3/envs/python3/lib/python3.6/site-packages (0.5.5)\n",
      "Requirement already satisfied: requests in /home/ec2-user/anaconda3/envs/python3/lib/python3.6/site-packages (from pyzillow) (2.20.1)\n",
      "Requirement already satisfied: certifi>=2017.4.17 in /home/ec2-user/anaconda3/envs/python3/lib/python3.6/site-packages (from requests->pyzillow) (2018.11.29)\n",
      "Requirement already satisfied: urllib3<1.25,>=1.21.1 in /home/ec2-user/anaconda3/envs/python3/lib/python3.6/site-packages (from requests->pyzillow) (1.22)\n",
      "Requirement already satisfied: chardet<3.1.0,>=3.0.2 in /home/ec2-user/anaconda3/envs/python3/lib/python3.6/site-packages (from requests->pyzillow) (3.0.4)\n",
      "Requirement already satisfied: idna<2.8,>=2.5 in /home/ec2-user/anaconda3/envs/python3/lib/python3.6/site-packages (from requests->pyzillow) (2.6)\n",
      "\u001b[33mYou are using pip version 10.0.1, however version 19.0.3 is available.\n",
      "You should consider upgrading via the 'pip install --upgrade pip' command.\u001b[0m\n",
      "0.5323885031544184\n",
      "Your \"fair market value:  $ [[320628.21899134]]\n",
      "Your Zestimate:  $ 827814\n"
     ]
    }
   ],
   "source": [
    "import numpy as np \n",
    "import pandas as pd \n",
    "from sklearn.feature_selection import f_regression, SelectKBest \n",
    "from sklearn. linear_model import Ridge \n",
    "from sklearn.model_selection import train_test_split\n",
    "from sklearn.pipeline import Pipeline\n",
    "from sklearn.preprocessing import StandardScaler\n",
    "from sklearn.pipeline import make_pipeline\n",
    "from sklearn.linear_model import LinearRegression\n",
    "!pip install pyzillow\n",
    "\n",
    "numeric_data = data_first[['Bathrooms', 'Bedrooms', 'SQFTmain', 'YearBuilt', 'ZIPcode']]\n",
    "y_variables = data_first[['netTaxableValue']] \n",
    "\n",
    "X = numeric_data\n",
    "y = y_variables\n",
    "\n",
    "\n",
    "X_train, X_val, y_train, y_val = train_test_split(X, y)\n",
    "\n",
    "from sklearn.metrics import accuracy_score\n",
    "from sklearn.metrics import r2_score, mean_squared_error\n",
    "\n",
    "# fit model using train datasets\n",
    "model = LinearRegression()\n",
    "model.fit(X_train, y_train)\n",
    "\n",
    "# Create new predictions using x_test\n",
    "y_pred = model.predict(X_val)\n",
    "\n",
    "# Measure Accuracy using y_test and y_pred\n",
    "RMSE = (np.sqrt(mean_squared_error(y_val, y_pred)))\n",
    "R2 = r2_score(y_val, y_pred)\n",
    "\n",
    "linear_reg = LinearRegression().fit(X, y)\n",
    "linear_reg.score(X, y)\n",
    "linear_reg.coef_\n",
    "\n",
    "linear_reg = LinearRegression().fit(X, y)\n",
    "linear_reg.score(X, y)\n",
    "linear_reg.coef_\n",
    "\n",
    "RMSE = (np.sqrt(mean_squared_error(y_val, y_pred)))\n",
    "R2 = r2_score(y_val, y_pred)\n",
    "\n",
    "print (R2)\n",
    "\n",
    "linear_reg.predict(X[['Bathrooms', 'Bedrooms', 'SQFTmain', 'YearBuilt', 'ZIPcode']])\n",
    "\n",
    "bath_predict = 2\n",
    "beds_predict = 4\n",
    "Sqft_predict = 1800\n",
    "year_predict = 1950\n",
    "code_predict = 91505\n",
    "\n",
    "\n",
    "test_case = np.array([[bath_predict, beds_predict, Sqft_predict, year_predict, code_predict]])\n",
    "linear_reg.predict(test_case)\n",
    "from pyzillow.pyzillow import ZillowWrapper, GetDeepSearchResults\n",
    "address = '1107 N Rose St Burbank, CA'\n",
    "zipcode = '91505'\n",
    "zillow_data = ZillowWrapper('X1-ZWz1gyajrkda8b_76gmj')\n",
    "deep_search_response = zillow_data.get_deep_search_results(address,zipcode)\n",
    "result = GetDeepSearchResults(deep_search_response)\n",
    "\n",
    "\n",
    "\n",
    "prediction = linear_reg.predict(test_case)\n",
    "print_results = str(prediction)\n",
    "\n",
    "print('Your \"fair market value: ', '$', print_results)\n",
    "print('Your Zestimate: ', '$', result.zestimate_amount)"
   ]
  },
  {
   "cell_type": "code",
   "execution_count": null,
   "metadata": {},
   "outputs": [],
   "source": []
  },
  {
   "cell_type": "code",
   "execution_count": null,
   "metadata": {},
   "outputs": [],
   "source": []
  },
  {
   "cell_type": "code",
   "execution_count": null,
   "metadata": {},
   "outputs": [],
   "source": [
    " "
   ]
  },
  {
   "cell_type": "code",
   "execution_count": null,
   "metadata": {},
   "outputs": [],
   "source": []
  },
  {
   "cell_type": "code",
   "execution_count": null,
   "metadata": {},
   "outputs": [],
   "source": []
  }
 ],
 "metadata": {
  "kernelspec": {
   "display_name": "conda_python3",
   "language": "python",
   "name": "conda_python3"
  },
  "language_info": {
   "codemirror_mode": {
    "name": "ipython",
    "version": 3
   },
   "file_extension": ".py",
   "mimetype": "text/x-python",
   "name": "python",
   "nbconvert_exporter": "python",
   "pygments_lexer": "ipython3",
   "version": "3.6.5"
  }
 },
 "nbformat": 4,
 "nbformat_minor": 2
}
